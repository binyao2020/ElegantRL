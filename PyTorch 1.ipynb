{
  "nbformat": 4,
  "nbformat_minor": 0,
  "metadata": {
    "colab": {
      "name": "Untitled12.ipynb",
      "provenance": [],
      "collapsed_sections": [],
      "authorship_tag": "ABX9TyMolyAp6xG3EOdRc5OR68me",
      "include_colab_link": true
    },
    "kernelspec": {
      "name": "python3",
      "display_name": "Python 3"
    },
    "language_info": {
      "name": "python"
    }
  },
  "cells": [
    {
      "cell_type": "markdown",
      "metadata": {
        "id": "view-in-github",
        "colab_type": "text"
      },
      "source": [
        "<a href=\"https://colab.research.google.com/github/binyao2020/ElegantRL/blob/master/PyTorch%201.ipynb\" target=\"_parent\"><img src=\"https://colab.research.google.com/assets/colab-badge.svg\" alt=\"Open In Colab\"/></a>"
      ]
    },
    {
      "cell_type": "code",
      "metadata": {
        "id": "UGndMS0rYSBU"
      },
      "source": [
        "import torch \n",
        "\n",
        "t = torch.tensor([[1., -1.], [1., -1.]])\n",
        "\n",
        "# propertice of tensors\n",
        "t.dtype \n",
        "t.shape\n",
        "t.device "
      ],
      "execution_count": null,
      "outputs": []
    },
    {
      "cell_type": "code",
      "metadata": {
        "id": "y3uTevhyZjQD"
      },
      "source": [
        "# create tensors\n",
        "x = torch.empty([5, 3]) # uninitialized\n",
        "x = torch.rand(5, 3) # initialized\n",
        "x = torch.zeros(5, 3, dtype=torch.long)\n",
        "x = torch.tensor([5.5, 3])"
      ],
      "execution_count": null,
      "outputs": []
    },
    {
      "cell_type": "code",
      "metadata": {
        "id": "e2DId_zjZxel"
      },
      "source": [
        "# create a tensor based on existed ones\n",
        "\n",
        "x = x.new_ones(5, 3, dtype=torch.double)\n",
        "x = torch.randn_like(x, dtype.torch.float)"
      ],
      "execution_count": null,
      "outputs": []
    },
    {
      "cell_type": "code",
      "metadata": {
        "id": "V4mF-HiyaDNI"
      },
      "source": [
        "# operations\n",
        "x + y\n",
        "torch.add(x, y)\n",
        "\n",
        "result = torch.empty(5, 3)\n",
        "torch.add(x, y, out=result)\n",
        "\n",
        "y.add_(x) # y has changed"
      ],
      "execution_count": null,
      "outputs": []
    },
    {
      "cell_type": "code",
      "metadata": {
        "id": "d-GQFruVacC-"
      },
      "source": [
        "# resizing\n",
        "\n",
        "x = torch.randn(4, 4)\n",
        "y = x.view(16)\n",
        "z = x.view(-1, 8)\n",
        "\n",
        "x = torch.randn(1)\n",
        "print(x)\n",
        "print(x.item())"
      ],
      "execution_count": null,
      "outputs": []
    },
    {
      "cell_type": "code",
      "metadata": {
        "id": "6-K8ikbtapCe"
      },
      "source": [
        "# torch <-> numpy array\n",
        "import numpy as np\n",
        "\n",
        "a = torch.ones(5)\n",
        "b = a.numpy()\n",
        "\n",
        "a.add_(1)\n",
        "\n",
        "a = np.ones(5)\n",
        "b = torch.from_numpy(a)\n",
        "np.add(a, 1, out=a)\n",
        "print(a)\n",
        "print(b)"
      ],
      "execution_count": null,
      "outputs": []
    },
    {
      "cell_type": "code",
      "metadata": {
        "id": "ZGxkkK0fbEYa"
      },
      "source": [
        "# CUDA: Coupute Unified Device Architecture\n",
        "\n",
        "if torch.cuda.is_available():\n",
        "    device = torch.device(\"cuda\")\n",
        "    y = torch.ones_like(x, device=device)\n",
        "    x = x.to(device)\n",
        "    z = x + y\n",
        "    print(z.to(\"cpu\", torch.double))"
      ],
      "execution_count": null,
      "outputs": []
    },
    {
      "cell_type": "code",
      "metadata": {
        "id": "SHCNo-iobpGZ"
      },
      "source": [
        "# GPU is much faster !\n",
        "import torch \n",
        "import time\n",
        "\n",
        "x_cpu = torch.randn(120000, 10000)\n",
        "y_cpu = torch.randn(10000, 1)\n",
        "\n",
        "x_gpu = x_cpu.cuda()\n",
        "y_gpu = y_cpu.cuda()\n",
        "\n",
        "start = time.time()\n",
        "x_cpu.mm(y_cpu)\n",
        "print(time.time() - start)\n",
        "start = time.time()\n",
        "x_gpu.mm(y_gpu)\n",
        "print(time.time() - start)"
      ],
      "execution_count": null,
      "outputs": []
    },
    {
      "cell_type": "code",
      "metadata": {
        "id": "pGo3HVgrdZc_"
      },
      "source": [
        "# auto differentiation\n",
        "import torch\n",
        "\n",
        "x = torch.ones(2, 2, requires_grad=True)\n",
        "y = x+2\n",
        "# y.grad_fn\n",
        "z = y*y*3\n",
        "out = z.mean()\n",
        "\n",
        "out.backward()\n",
        "print(x.grad)"
      ],
      "execution_count": null,
      "outputs": []
    },
    {
      "cell_type": "code",
      "metadata": {
        "id": "HdoTJ5PLdu5K"
      },
      "source": [
        "# more gradients\n",
        "x = torch.randn(3, requires_grad=True)\n",
        "\n",
        "y = x*2\n",
        "while y.data.norm() < 1000:\n",
        "    y = y*2\n",
        "\n",
        "print(y)\n",
        "\n",
        "gradients = torch.tensor([0.1, 1.0, 0.0001], dtype=torch.float)\n",
        "y.backward(gradients)\n",
        "\n",
        "print(x.grad)"
      ],
      "execution_count": null,
      "outputs": []
    },
    {
      "cell_type": "code",
      "metadata": {
        "id": "oQsZw-B5jrg-"
      },
      "source": [
        "with torch.no_grad():\n",
        "  print(x.requires_grad)"
      ],
      "execution_count": null,
      "outputs": []
    }
  ]
}